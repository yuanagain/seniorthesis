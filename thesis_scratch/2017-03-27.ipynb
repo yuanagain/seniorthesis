{
 "cells": [
  {
   "cell_type": "markdown",
   "metadata": {},
   "source": [
    "# 2017-03-27"
   ]
  },
  {
   "cell_type": "code",
   "execution_count": 1,
   "metadata": {
    "collapsed": true
   },
   "outputs": [],
   "source": [
    "import numpy as np\n",
    "import matplotlib.pyplot as plt\n",
    "from mpl_toolkits.mplot3d import Axes3D\n",
    "import math"
   ]
  },
  {
   "cell_type": "markdown",
   "metadata": {},
   "source": [
    "# Nonrigorous Simulation"
   ]
  },
  {
   "cell_type": "markdown",
   "metadata": {},
   "source": [
    "We first establish a working resolution"
   ]
  },
  {
   "cell_type": "code",
   "execution_count": 2,
   "metadata": {
    "collapsed": true
   },
   "outputs": [],
   "source": [
    "res = 0.01\n",
    "dt = res"
   ]
  },
  {
   "cell_type": "markdown",
   "metadata": {},
   "source": [
    "## Plotting our solutions"
   ]
  },
  {
   "cell_type": "markdown",
   "metadata": {},
   "source": [
    "### We consider the following set of parameters:"
   ]
  },
  {
   "cell_type": "code",
   "execution_count": 3,
   "metadata": {
    "collapsed": true
   },
   "outputs": [],
   "source": [
    "default_lambda_1, default_lambda_2, default_lambda_3 = 0.086, 0.141, 0.773"
   ]
  },
  {
   "cell_type": "markdown",
   "metadata": {},
   "source": [
    "### We simulate the path of a solution"
   ]
  },
  {
   "cell_type": "code",
   "execution_count": 4,
   "metadata": {
    "collapsed": true
   },
   "outputs": [],
   "source": [
    "def quad2(x_1, y_1, x_2, y_2, \n",
    "            lambda_1 = default_lambda_1, \n",
    "            lambda_2 = default_lambda_2, \n",
    "            lambda_3 = default_lambda_3):\n",
    "    \"\"\"\n",
    "    dz1/dt = lambda_2 * z1^2 - (lambda_2 + lambda_3) * z1 * z2\n",
    "    dz2/dt = lambda_1 * z2^2 - (lambda_1 + lambda_3) * z1 * z2\n",
    "    http://www.math.kit.edu/iag3/~herrlich/seite/wws-11/media/wws-talk-valdez.pdf\n",
    "    \"\"\"\n",
    "\n",
    "    x_1_dot = lambda_2 * (x_1**2 - y_1**2) - (lambda_2 + lambda_3) * (x_1*x_2 - y_1*y_2)\n",
    "    y_1_dot = 2 * lambda_2 * x_1 * y_1 - (lambda_2 + lambda_3) * (x_1*y_2 + y_1*x_2)\n",
    "    x_2_dot = lambda_1 * (x_2**2 - y_2**2) - (lambda_1 + lambda_3) * (x_1*x_2 - y_1*y_2)\n",
    "    y_2_dot = 2 * lambda_1 * x_2 * y_2 - (lambda_1 +lambda_3) * (x_1*y_2 + y_1*x_2)\n",
    "\n",
    "    return x_1_dot, y_1_dot, x_2_dot, y_2_dot"
   ]
  },
  {
   "cell_type": "markdown",
   "metadata": {},
   "source": [
    "### We have three methods of plotting"
   ]
  },
  {
   "cell_type": "code",
   "execution_count": 5,
   "metadata": {
    "collapsed": true
   },
   "outputs": [],
   "source": [
    "def plot_quad(ws, xs, ys, zs, plot_type = 0, txt = \"\"):    \n",
    "\n",
    "    if plot_type == 0:\n",
    "        print(\"Plotting Double Plot Quad Viz\")\n",
    "        plt.figure(1)\n",
    "\n",
    "        plt.subplot(2, 1, 1)\n",
    "        plt.subplots_adjust(top=0.85)\n",
    "        plt.plot(xs, ws)\n",
    "        #plt.yscale('linear')\n",
    "        plt.title('xy')\n",
    "        plt.grid(True)\n",
    "        #plt.gca().set_aspect('equal')\n",
    "\n",
    "        plt.subplot(2, 1, 2)\n",
    "        plt.plot(ys, zs)\n",
    "        #plt.yscale('linear')\n",
    "        plt.title('wz')\n",
    "        plt.grid(True)\n",
    "        #plt.gca().set_aspect('equal')\n",
    "        plt.suptitle(txt, fontsize=14)\n",
    "\n",
    "        plt.show()\n",
    "\n",
    "    elif plot_type == 1:\n",
    "        print(\"Plotting Overlain Double Plot Quad Viz\")\n",
    "        plt.figure(1)\n",
    "\n",
    "        plt.plot(xs, ws)\n",
    "\n",
    "        plt.plot(ys, zs)\n",
    "        #plt.yscale('linear')\n",
    "        plt.title('x-w, y-z')\n",
    "        plt.grid(True)\n",
    "        #plt.gca().set_aspect('equal')\n",
    "        plt.suptitle(txt, fontsize=14)\n",
    "\n",
    "        plt.show()\n",
    "\n",
    "    elif plot_type == 2:\n",
    "        print(\"Plotting Sphere Plot Quad Viz\")\n",
    "        fig = plt.figure()\n",
    "        ax = fig.gca(projection='3d')\n",
    "\n",
    "        plt.subplots_adjust(top=0.85)\n",
    "        plt.suptitle(txt, fontsize=14)\n",
    "\n",
    "        qdist = quad_distance(ws, xs, ys, zs)\n",
    "\n",
    "        ws = np.divide(ws, qdist)\n",
    "        xs = np.divide(xs, qdist)\n",
    "        ys = np.divide(ys, qdist)\n",
    "        zs = np.divide(zs, qdist)\n",
    "        \n",
    "        ax.plot(xs, ys, zs)\n",
    "        ax.set_xlabel(\"X Axis\")\n",
    "        ax.set_ylabel(\"Y Axis\")\n",
    "        ax.set_zlabel(\"Z Axis\")\n",
    "        ax.set_title(\"Nonrigorous Solution\")\n",
    "        \n",
    "\n",
    "        plt.show()\n",
    "\n",
    "    else: \n",
    "        print(\"Invalid Plot Type\")\n",
    "        "
   ]
  },
  {
   "cell_type": "markdown",
   "metadata": {},
   "source": [
    "### Here we step through our simulation"
   ]
  },
  {
   "cell_type": "code",
   "execution_count": 6,
   "metadata": {
    "collapsed": false
   },
   "outputs": [],
   "source": [
    "stepCnt = 100000\n",
    "\n",
    "# Need one more for the initial values\n",
    "ws = np.empty((stepCnt + 1,))\n",
    "xs = np.empty((stepCnt + 1,))\n",
    "ys = np.empty((stepCnt + 1,))\n",
    "zs = np.empty((stepCnt + 1,))\n",
    "\n",
    "# Setting initial values\n",
    "ws[0], xs[0], ys[0], zs[0] = (  0.372854105052, \n",
    "                                0.393518965248, \n",
    "                                -0.0359026080443, \n",
    "                                -0.216701666067 )\n",
    "\n",
    "# Stepping through \"time\".\n",
    "for i in range(stepCnt):\n",
    "    # Derivatives of the W, X, Y, Z state\n",
    "    w_dot, x_dot, y_dot, z_dot = quad2(ws[i], xs[i], ys[i], zs[i])\n",
    "    ws[i + 1] = ws[i] + (w_dot * dt)\n",
    "    xs[i + 1] = xs[i] + (x_dot * dt)\n",
    "    ys[i + 1] = ys[i] + (y_dot * dt)\n",
    "    zs[i + 1] = zs[i] + (z_dot * dt)\n",
    "\n",
    "#plot_quad(ws, xs, ys, zs, float(1))"
   ]
  },
  {
   "cell_type": "markdown",
   "metadata": {},
   "source": [
    "## Seeking a periodic orbit\n",
    "\n",
    "We will leverage the homoegeneity of the system to find a hypothetical solution (nonrigorously still, of course). We do this by fixing a period T and seeking to minimize the distance between f(x_0 + T) and f(x_0). We will vary x_0, seeking improvements via Newton's method. Random restarts may be necessary."
   ]
  },
  {
   "cell_type": "code",
   "execution_count": 7,
   "metadata": {
    "collapsed": false
   },
   "outputs": [],
   "source": [
    "def f(x_1, y_1, x_2, y_2):\n",
    "    \"\"\"Just a clone of quad2\"\"\"\n",
    "    return quad2(x_1, y_1, x_2, y_2)\n",
    "\n",
    "def F(x_1, y_1, x_2, y_2, T):\n",
    "    \"\"\"Find f(x + T)\"\"\"\n",
    "    \n",
    "    stepCnt = math.ceil(T / dt)\n",
    "\n",
    "    # Need one more for the initial values\n",
    "    ws = np.empty((stepCnt + 1,))\n",
    "    xs = np.empty((stepCnt + 1,))\n",
    "    ys = np.empty((stepCnt + 1,))\n",
    "    zs = np.empty((stepCnt + 1,))\n",
    "\n",
    "    # Setting initial values\n",
    "    ws[0], xs[0], ys[0], zs[0] = x_1, y_1, x_2, y_2\n",
    "\n",
    "    # Stepping through \"time\".\n",
    "    for i in range(stepCnt):\n",
    "        # Derivatives of the W, X, Y, Z state\n",
    "        w_dot, x_dot, y_dot, z_dot = f(ws[i], xs[i], ys[i], zs[i])\n",
    "        ws[i + 1] = ws[i] + (w_dot * dt)\n",
    "        xs[i + 1] = xs[i] + (x_dot * dt)\n",
    "        ys[i + 1] = ys[i] + (y_dot * dt)\n",
    "        zs[i + 1] = zs[i] + (z_dot * dt)\n",
    "        \n",
    "    return ws[-1], xs[-1], ys[-1], zs[-1]\n",
    "    \n",
    "def quad_dist(w, x, y, z):\n",
    "    \"\"\"Computes the Euclidian distance\"\"\"\n",
    "    return [w[i]**2 + x[i]**2 + y[i]**2 + z[i]**2 for i in range(len(w))]\n",
    "\n",
    "\n",
    "def quad_sq_distance(x, y):\n",
    "    \"\"\"Computes the squared distance\"\"\"\n",
    "    dists = [ x[i] - y[i] for i in range(len(x) )]\n",
    "    dists = [ dists[i]**2 for i in range(len(x) )]\n",
    "    return sum(dists)"
   ]
  },
  {
   "cell_type": "code",
   "execution_count": 8,
   "metadata": {
    "collapsed": false
   },
   "outputs": [
    {
     "name": "stdout",
     "output_type": "stream",
     "text": [
      "(-0.06794027539678509, 0.12813928269344135, -0.06568099441507005, 0.08288001831502431)\n",
      "(0.37285410505200001, 0.39351896524800001, -0.035902608044299997, -0.216701666067)\n",
      "(0.30628826341289472, 0.51958905370904163, -0.08841827178792637, -0.13720689546493597)\n",
      "0.0294019919692\n"
     ]
    }
   ],
   "source": [
    "default_start = (0.372854105052, 0.393518965248, -0.0359026080443, -0.216701666067)\n",
    "## break up tuple, test\n",
    "testf = f(*default_start) \n",
    "start_point = F(*default_start, 0) \n",
    "end_point = F(*default_start, 1)\n",
    "\n",
    "## testing\n",
    "print(testf)\n",
    "print(start_point)\n",
    "print(end_point)\n",
    "print(quad_sq_distance(start_point, end_point))"
   ]
  },
  {
   "cell_type": "markdown",
   "metadata": {},
   "source": [
    "We define g to be ( F(x_0) - F(x_0 + T) )^2"
   ]
  },
  {
   "cell_type": "code",
   "execution_count": 9,
   "metadata": {
    "collapsed": true
   },
   "outputs": [],
   "source": [
    "def g(x_1, y_1, x_2, y_2, T = 1):\n",
    "    return quad_sq_distance( F(x_1, y_1, x_2, y_2, T), F(x_1, y_1, x_2, y_2, 0) ) "
   ]
  },
  {
   "cell_type": "code",
   "execution_count": 10,
   "metadata": {
    "collapsed": false
   },
   "outputs": [
    {
     "name": "stdout",
     "output_type": "stream",
     "text": [
      "0.0294019919692\n"
     ]
    }
   ],
   "source": [
    "## Testing\n",
    "\n",
    "print(g(*default_start))"
   ]
  },
  {
   "cell_type": "markdown",
   "metadata": {},
   "source": [
    "We try minimizing g while varying only T."
   ]
  },
  {
   "cell_type": "code",
   "execution_count": 11,
   "metadata": {
    "collapsed": false
   },
   "outputs": [
    {
     "name": "stdout",
     "output_type": "stream",
     "text": [
      "0.357088556366\n",
      "d_down: 0.806794673054 d_current: 0.150002516851 d_up: 0.150002516851\n",
      "T: 108.4 radius: 2.5 dist: 0.150002516851\n",
      "d_down: 0.357088556366 d_current: 0.150002516851 d_up: 0.150002516851\n",
      "T: 108.4 radius: 1.25 dist: 0.150002516851\n",
      "d_down: 0.183891097251 d_current: 0.0817850721512 d_up: 0.0817850721512\n",
      "T: 109.025 radius: 0.625 dist: 0.0817850721512\n",
      "d_down: 0.086199590712 d_current: 0.0817850721512 d_up: 0.0817850721512\n",
      "T: 109.025 radius: 0.3125 dist: 0.0817850721512\n",
      "d_down: 0.0762484007108 d_current: 0.074520993286 d_up: 0.074520993286\n",
      "T: 109.18125 radius: 0.15625 dist: 0.074520993286\n",
      "d_down: 0.072553750155 d_current: 0.072553750155 d_up: 0.074520993286\n",
      "T: 109.103125 radius: 0.078125 dist: 0.072553750155\n",
      "d_down: 0.072553750155 d_current: 0.072553750155 d_up: 0.0728805925208\n",
      "T: 109.103125 radius: 0.0390625 dist: 0.072553750155\n",
      "d_down: 0.0724952627042 d_current: 0.0724952627042 d_up: 0.0726593604254\n",
      "T: 109.08359375 radius: 0.01953125 dist: 0.0724952627042\n",
      "0.0725012738654\n"
     ]
    }
   ],
   "source": [
    "current_T = 105.9\n",
    "current_dist = 0.7339\n",
    "current_radius = 5\n",
    "\n",
    "\n",
    "print(g(*default_start, current_T))\n",
    "\n",
    "while current_dist > 0.0725:\n",
    "    ## compute distances at edges\n",
    "    d_up = g(*default_start, current_T + current_radius)\n",
    "    d_down = g(*default_start, current_T - current_radius)\n",
    "    \n",
    "    ## halve the radius\n",
    "    current_radius = current_radius / 2\n",
    "    \n",
    "    ## determine whether or not to move\n",
    "    d_swap = min(d_up, d_down)\n",
    "    if current_dist > d_swap:\n",
    "\n",
    "        if d_up > d_down:\n",
    "            current_T = current_T - current_radius\n",
    "\n",
    "        else: \n",
    "            current_T = current_T + current_radius\n",
    "            \n",
    "    current_dist = min(current_dist, d_swap)\n",
    "\n",
    "    print(\"d_down: \" + str(d_down) + \" d_current: \" + str(current_dist) + \" d_up: \" + str(d_up))\n",
    "    print(\"T: \" + str(current_T) + \" radius: \" + str(current_radius) + \" dist: \" + str(current_dist))\n",
    "    \n",
    "print(g(*default_start, current_T))"
   ]
  },
  {
   "cell_type": "markdown",
   "metadata": {},
   "source": [
    "We see that it is easy to get stuck in infinite loops while in troughs."
   ]
  },
  {
   "cell_type": "code",
   "execution_count": 12,
   "metadata": {
    "collapsed": true
   },
   "outputs": [],
   "source": [
    "iteration_count = 1000\n",
    "x = default_start\n",
    "\n",
    "import operator\n",
    "\n",
    "def tuple_add(a, b):\n",
    "    return tuple(map(operator.add, a, b) )\n",
    "    \n",
    "def tuple_subtract(a, b):\n",
    "    b_neg = tuple([-k for k in b])\n",
    "    return tuple(map(operator.add, a, b_neg) )\n",
    "    \n",
    "def list_subtract(a, b):\n",
    "    return list(map(operator.sub, a, b))\n",
    "\n",
    "def approx_derivs(x):\n",
    "    \"\"\"Approximate partial deritatives of x\"\"\"\n",
    "    gx0 = g(*x)\n",
    "    x_1_dot = ( g(*tuple_add(x, (dt, 0,  0 , 0 ) ) ) - gx0 ) / dt\n",
    "    x_2_dot = ( g(*tuple_add(x, (0,  dt, 0 , 0 ) ) ) - gx0 ) / dt\n",
    "    y_1_dot = ( g(*tuple_add(x, (0,  0,  dt, 0 ) ) ) - gx0 ) / dt\n",
    "    y_2_dot = ( g(*tuple_add(x, (0,  0,  0 , dt) ) ) - gx0 ) / dt\n",
    "    \n",
    "    return (x_1_dot, x_2_dot, y_1_dot, y_2_dot)\n",
    "\n",
    "\n",
    "def newton_iterate(x):\n",
    "    gx0 = g(*x)\n",
    "    x_1_dot = ( g(*tuple_add(x, (dt, 0,  0 , 0 ) ) ) - gx0 ) / dt\n",
    "    x_2_dot = ( g(*tuple_add(x, (0,  dt, 0 , 0 ) ) ) - gx0 ) / dt\n",
    "    y_1_dot = ( g(*tuple_add(x, (0,  0,  dt, 0 ) ) ) - gx0 ) / dt\n",
    "    y_2_dot = ( g(*tuple_add(x, (0,  0,  0 , dt) ) ) - gx0 ) / dt\n",
    "\n",
    "# for i in range(iteration_count): \n",
    "#     ## perform Newton iteration\n",
    "#     x_dot = approx_derivs(x)\n",
    "#     x = tuple_substract(x, x_dot)\n",
    "    \n"
   ]
  },
  {
   "cell_type": "code",
   "execution_count": 13,
   "metadata": {
    "collapsed": false
   },
   "outputs": [],
   "source": [
    "import numdifftools as nd\n",
    "\n",
    "\n",
    "def g_nd(x):\n",
    "    return g(*tuple(x))\n",
    "\n",
    "g_hessian = nd.core.Hessian(g_nd)\n",
    "g_jacobian = nd.core.Jacobian(g_nd)"
   ]
  },
  {
   "cell_type": "code",
   "execution_count": 14,
   "metadata": {
    "collapsed": false
   },
   "outputs": [
    {
     "name": "stderr",
     "output_type": "stream",
     "text": [
      "/Library/Frameworks/Python.framework/Versions/3.5/lib/python3.5/site-packages/scipy/linalg/basic.py:884: RuntimeWarning: internal gelsd driver lwork query error, required iwork dimension not returned. This is likely the result of LAPACK bug 0038, fixed in LAPACK 3.2.2 (released July 21, 2010). Falling back to 'gelss' driver.\n",
      "  warnings.warn(mesg, RuntimeWarning)\n"
     ]
    },
    {
     "name": "stdout",
     "output_type": "stream",
     "text": [
      "[[ 0.21171349  0.05725795 -0.22280494 -0.41983948]\n",
      " [ 0.05725795  0.32914638 -0.17663771 -0.67363746]\n",
      " [-0.22280494 -0.17663771  0.87829543  0.15825457]\n",
      " [-0.41983948 -0.67363746  0.15825457  0.91416693]]\n",
      "---\n",
      "[[ 0.07105993  0.10204844 -0.0719666  -0.21374586]]\n",
      "---\n",
      "[[ 2.53247772 -3.87968894  0.17313638 -1.72579998]\n",
      " [-3.87968894  0.11206592 -0.67659253 -1.58207532]\n",
      " [ 0.17313638 -0.67659253  1.15804714 -0.61953109]\n",
      " [-1.72579998 -1.58207532 -0.61953109 -0.75725835]]\n",
      "---\n",
      "[[ 0.14046406]\n",
      " [ 0.12259983]\n",
      " [-0.00766066]\n",
      " [-0.07763716]]\n"
     ]
    }
   ],
   "source": [
    "x_0 = default_start\n",
    "print(g_hessian(x_0))\n",
    "print(\"---\")\n",
    "print(g_jacobian(x_0))\n",
    "print(\"---\")\n",
    "print(np.linalg.inv(g_hessian(x_0)))\n",
    "print(\"---\")\n",
    "print(np.matmul(np.linalg.inv(g_hessian(x_0)), np.transpose(g_jacobian(x_0))))"
   ]
  },
  {
   "cell_type": "markdown",
   "metadata": {},
   "source": [
    "We now begin Newton iterations"
   ]
  },
  {
   "cell_type": "code",
   "execution_count": 15,
   "metadata": {
    "collapsed": false
   },
   "outputs": [
    {
     "name": "stdout",
     "output_type": "stream",
     "text": [
      "[0.23239004419942905, 0.27091913189083749, -0.028241943107481279, -0.13906450319413285]\n",
      "0.00561598928453\n",
      "[0.14779628858838173, 0.18422849181484488, -0.02092601278517902, -0.090293311021086828]\n",
      "0.00108486356065\n"
     ]
    },
    {
     "name": "stderr",
     "output_type": "stream",
     "text": [
      "/Library/Frameworks/Python.framework/Versions/3.5/lib/python3.5/site-packages/ipykernel/__main__.py:11: RuntimeWarning: overflow encountered in double_scalars\n",
      "/Library/Frameworks/Python.framework/Versions/3.5/lib/python3.5/site-packages/ipykernel/__main__.py:11: RuntimeWarning: invalid value encountered in double_scalars\n",
      "/Library/Frameworks/Python.framework/Versions/3.5/lib/python3.5/site-packages/ipykernel/__main__.py:12: RuntimeWarning: overflow encountered in double_scalars\n",
      "/Library/Frameworks/Python.framework/Versions/3.5/lib/python3.5/site-packages/ipykernel/__main__.py:12: RuntimeWarning: invalid value encountered in double_scalars\n",
      "/Library/Frameworks/Python.framework/Versions/3.5/lib/python3.5/site-packages/ipykernel/__main__.py:13: RuntimeWarning: overflow encountered in double_scalars\n",
      "/Library/Frameworks/Python.framework/Versions/3.5/lib/python3.5/site-packages/ipykernel/__main__.py:13: RuntimeWarning: invalid value encountered in double_scalars\n",
      "/Library/Frameworks/Python.framework/Versions/3.5/lib/python3.5/site-packages/ipykernel/__main__.py:14: RuntimeWarning: overflow encountered in double_scalars\n",
      "/Library/Frameworks/Python.framework/Versions/3.5/lib/python3.5/site-packages/ipykernel/__main__.py:14: RuntimeWarning: invalid value encountered in double_scalars\n",
      "/Library/Frameworks/Python.framework/Versions/3.5/lib/python3.5/site-packages/numdifftools/extrapolation.py:443: RuntimeWarning: invalid value encountered in less_equal\n",
      "  converged = err <= tol\n",
      "/Library/Frameworks/Python.framework/Versions/3.5/lib/python3.5/site-packages/numdifftools/limits.py:150: RuntimeWarning: invalid value encountered in less\n",
      "  outliers = (((abs(der) < (a_median / trim_fact)) +\n",
      "/Library/Frameworks/Python.framework/Versions/3.5/lib/python3.5/site-packages/numdifftools/limits.py:151: RuntimeWarning: invalid value encountered in greater\n",
      "  (abs(der) > (a_median * trim_fact))) * (a_median > 1e-8) +\n",
      "/Library/Frameworks/Python.framework/Versions/3.5/lib/python3.5/site-packages/numdifftools/limits.py:152: RuntimeWarning: invalid value encountered in less\n",
      "  ((der < p25-1.5*iqr) + (p75+1.5*iqr < der)))\n"
     ]
    },
    {
     "name": "stdout",
     "output_type": "stream",
     "text": [
      "[0.095406559876323405, 0.12433792401780071, -0.014917890570122078, -0.059111622555555549]\n",
      "0.000211061764303\n"
     ]
    },
    {
     "name": "stderr",
     "output_type": "stream",
     "text": [
      "/Library/Frameworks/Python.framework/Versions/3.5/lib/python3.5/site-packages/ipykernel/__main__.py:11: RuntimeWarning: overflow encountered in double_scalars\n",
      "/Library/Frameworks/Python.framework/Versions/3.5/lib/python3.5/site-packages/ipykernel/__main__.py:11: RuntimeWarning: invalid value encountered in double_scalars\n",
      "/Library/Frameworks/Python.framework/Versions/3.5/lib/python3.5/site-packages/ipykernel/__main__.py:12: RuntimeWarning: overflow encountered in double_scalars\n",
      "/Library/Frameworks/Python.framework/Versions/3.5/lib/python3.5/site-packages/ipykernel/__main__.py:12: RuntimeWarning: invalid value encountered in double_scalars\n",
      "/Library/Frameworks/Python.framework/Versions/3.5/lib/python3.5/site-packages/ipykernel/__main__.py:13: RuntimeWarning: overflow encountered in double_scalars\n",
      "/Library/Frameworks/Python.framework/Versions/3.5/lib/python3.5/site-packages/ipykernel/__main__.py:13: RuntimeWarning: invalid value encountered in double_scalars\n",
      "/Library/Frameworks/Python.framework/Versions/3.5/lib/python3.5/site-packages/ipykernel/__main__.py:14: RuntimeWarning: overflow encountered in double_scalars\n",
      "/Library/Frameworks/Python.framework/Versions/3.5/lib/python3.5/site-packages/ipykernel/__main__.py:14: RuntimeWarning: invalid value encountered in double_scalars\n",
      "/Library/Frameworks/Python.framework/Versions/3.5/lib/python3.5/site-packages/numdifftools/extrapolation.py:443: RuntimeWarning: invalid value encountered in less_equal\n",
      "  converged = err <= tol\n",
      "/Library/Frameworks/Python.framework/Versions/3.5/lib/python3.5/site-packages/numdifftools/limits.py:150: RuntimeWarning: invalid value encountered in less\n",
      "  outliers = (((abs(der) < (a_median / trim_fact)) +\n",
      "/Library/Frameworks/Python.framework/Versions/3.5/lib/python3.5/site-packages/numdifftools/limits.py:151: RuntimeWarning: invalid value encountered in greater\n",
      "  (abs(der) > (a_median * trim_fact))) * (a_median > 1e-8) +\n",
      "/Library/Frameworks/Python.framework/Versions/3.5/lib/python3.5/site-packages/numdifftools/limits.py:152: RuntimeWarning: invalid value encountered in less\n",
      "  ((der < p25-1.5*iqr) + (p75+1.5*iqr < der)))\n"
     ]
    },
    {
     "name": "stdout",
     "output_type": "stream",
     "text": [
      "[0.062233224389485448, 0.083537154442005004, -0.010382081012325187, -0.038921817793189609]\n",
      "4.12609896899e-05\n"
     ]
    },
    {
     "name": "stderr",
     "output_type": "stream",
     "text": [
      "/Library/Frameworks/Python.framework/Versions/3.5/lib/python3.5/site-packages/ipykernel/__main__.py:11: RuntimeWarning: overflow encountered in double_scalars\n",
      "/Library/Frameworks/Python.framework/Versions/3.5/lib/python3.5/site-packages/ipykernel/__main__.py:11: RuntimeWarning: invalid value encountered in double_scalars\n",
      "/Library/Frameworks/Python.framework/Versions/3.5/lib/python3.5/site-packages/ipykernel/__main__.py:12: RuntimeWarning: overflow encountered in double_scalars\n",
      "/Library/Frameworks/Python.framework/Versions/3.5/lib/python3.5/site-packages/ipykernel/__main__.py:12: RuntimeWarning: invalid value encountered in double_scalars\n",
      "/Library/Frameworks/Python.framework/Versions/3.5/lib/python3.5/site-packages/ipykernel/__main__.py:13: RuntimeWarning: overflow encountered in double_scalars\n",
      "/Library/Frameworks/Python.framework/Versions/3.5/lib/python3.5/site-packages/ipykernel/__main__.py:13: RuntimeWarning: invalid value encountered in double_scalars\n",
      "/Library/Frameworks/Python.framework/Versions/3.5/lib/python3.5/site-packages/ipykernel/__main__.py:14: RuntimeWarning: overflow encountered in double_scalars\n",
      "/Library/Frameworks/Python.framework/Versions/3.5/lib/python3.5/site-packages/ipykernel/__main__.py:14: RuntimeWarning: invalid value encountered in double_scalars\n",
      "/Library/Frameworks/Python.framework/Versions/3.5/lib/python3.5/site-packages/numdifftools/extrapolation.py:443: RuntimeWarning: invalid value encountered in less_equal\n",
      "  converged = err <= tol\n",
      "/Library/Frameworks/Python.framework/Versions/3.5/lib/python3.5/site-packages/numdifftools/limits.py:150: RuntimeWarning: invalid value encountered in less\n",
      "  outliers = (((abs(der) < (a_median / trim_fact)) +\n",
      "/Library/Frameworks/Python.framework/Versions/3.5/lib/python3.5/site-packages/numdifftools/limits.py:151: RuntimeWarning: invalid value encountered in greater\n",
      "  (abs(der) > (a_median * trim_fact))) * (a_median > 1e-8) +\n",
      "/Library/Frameworks/Python.framework/Versions/3.5/lib/python3.5/site-packages/numdifftools/limits.py:152: RuntimeWarning: invalid value encountered in less\n",
      "  ((der < p25-1.5*iqr) + (p75+1.5*iqr < der)))\n"
     ]
    },
    {
     "name": "stdout",
     "output_type": "stream",
     "text": [
      "[0.040885323544533461, 0.055968816860533947, -0.0071169684099629434, -0.02573042508059576]\n",
      "8.09308459851e-06\n"
     ]
    },
    {
     "name": "stderr",
     "output_type": "stream",
     "text": [
      "/Library/Frameworks/Python.framework/Versions/3.5/lib/python3.5/site-packages/ipykernel/__main__.py:11: RuntimeWarning: overflow encountered in double_scalars\n",
      "/Library/Frameworks/Python.framework/Versions/3.5/lib/python3.5/site-packages/ipykernel/__main__.py:11: RuntimeWarning: invalid value encountered in double_scalars\n",
      "/Library/Frameworks/Python.framework/Versions/3.5/lib/python3.5/site-packages/ipykernel/__main__.py:12: RuntimeWarning: overflow encountered in double_scalars\n",
      "/Library/Frameworks/Python.framework/Versions/3.5/lib/python3.5/site-packages/ipykernel/__main__.py:12: RuntimeWarning: invalid value encountered in double_scalars\n",
      "/Library/Frameworks/Python.framework/Versions/3.5/lib/python3.5/site-packages/ipykernel/__main__.py:13: RuntimeWarning: overflow encountered in double_scalars\n",
      "/Library/Frameworks/Python.framework/Versions/3.5/lib/python3.5/site-packages/ipykernel/__main__.py:13: RuntimeWarning: invalid value encountered in double_scalars\n",
      "/Library/Frameworks/Python.framework/Versions/3.5/lib/python3.5/site-packages/ipykernel/__main__.py:14: RuntimeWarning: overflow encountered in double_scalars\n",
      "/Library/Frameworks/Python.framework/Versions/3.5/lib/python3.5/site-packages/ipykernel/__main__.py:14: RuntimeWarning: invalid value encountered in double_scalars\n",
      "/Library/Frameworks/Python.framework/Versions/3.5/lib/python3.5/site-packages/numdifftools/extrapolation.py:443: RuntimeWarning: invalid value encountered in less_equal\n",
      "  converged = err <= tol\n",
      "/Library/Frameworks/Python.framework/Versions/3.5/lib/python3.5/site-packages/numdifftools/limits.py:150: RuntimeWarning: invalid value encountered in less\n",
      "  outliers = (((abs(der) < (a_median / trim_fact)) +\n",
      "/Library/Frameworks/Python.framework/Versions/3.5/lib/python3.5/site-packages/numdifftools/limits.py:151: RuntimeWarning: invalid value encountered in greater\n",
      "  (abs(der) > (a_median * trim_fact))) * (a_median > 1e-8) +\n",
      "/Library/Frameworks/Python.framework/Versions/3.5/lib/python3.5/site-packages/numdifftools/limits.py:152: RuntimeWarning: invalid value encountered in less\n",
      "  ((der < p25-1.5*iqr) + (p75+1.5*iqr < der)))\n"
     ]
    },
    {
     "name": "stdout",
     "output_type": "stream",
     "text": [
      "[0.026990553350524853, 0.03743296647838272, -0.004831878426057255, -0.017056484581856976]\n",
      "1.59103711463e-06\n"
     ]
    },
    {
     "name": "stderr",
     "output_type": "stream",
     "text": [
      "/Library/Frameworks/Python.framework/Versions/3.5/lib/python3.5/site-packages/ipykernel/__main__.py:11: RuntimeWarning: overflow encountered in double_scalars\n",
      "/Library/Frameworks/Python.framework/Versions/3.5/lib/python3.5/site-packages/ipykernel/__main__.py:11: RuntimeWarning: invalid value encountered in double_scalars\n",
      "/Library/Frameworks/Python.framework/Versions/3.5/lib/python3.5/site-packages/ipykernel/__main__.py:12: RuntimeWarning: overflow encountered in double_scalars\n",
      "/Library/Frameworks/Python.framework/Versions/3.5/lib/python3.5/site-packages/ipykernel/__main__.py:12: RuntimeWarning: invalid value encountered in double_scalars\n",
      "/Library/Frameworks/Python.framework/Versions/3.5/lib/python3.5/site-packages/ipykernel/__main__.py:13: RuntimeWarning: overflow encountered in double_scalars\n",
      "/Library/Frameworks/Python.framework/Versions/3.5/lib/python3.5/site-packages/ipykernel/__main__.py:13: RuntimeWarning: invalid value encountered in double_scalars\n",
      "/Library/Frameworks/Python.framework/Versions/3.5/lib/python3.5/site-packages/ipykernel/__main__.py:14: RuntimeWarning: overflow encountered in double_scalars\n",
      "/Library/Frameworks/Python.framework/Versions/3.5/lib/python3.5/site-packages/ipykernel/__main__.py:14: RuntimeWarning: invalid value encountered in double_scalars\n",
      "/Library/Frameworks/Python.framework/Versions/3.5/lib/python3.5/site-packages/numdifftools/extrapolation.py:443: RuntimeWarning: invalid value encountered in less_equal\n",
      "  converged = err <= tol\n",
      "/Library/Frameworks/Python.framework/Versions/3.5/lib/python3.5/site-packages/numdifftools/limits.py:150: RuntimeWarning: invalid value encountered in less\n",
      "  outliers = (((abs(der) < (a_median / trim_fact)) +\n",
      "/Library/Frameworks/Python.framework/Versions/3.5/lib/python3.5/site-packages/numdifftools/limits.py:151: RuntimeWarning: invalid value encountered in greater\n",
      "  (abs(der) > (a_median * trim_fact))) * (a_median > 1e-8) +\n",
      "/Library/Frameworks/Python.framework/Versions/3.5/lib/python3.5/site-packages/numdifftools/limits.py:152: RuntimeWarning: invalid value encountered in less\n",
      "  ((der < p25-1.5*iqr) + (p75+1.5*iqr < der)))\n"
     ]
    },
    {
     "name": "stdout",
     "output_type": "stream",
     "text": [
      "[0.017875920699651285, 0.025007971887845239, -0.0032600907467908264, -0.011327667014311076]\n",
      "3.13272800303e-07\n"
     ]
    },
    {
     "name": "stderr",
     "output_type": "stream",
     "text": [
      "/Library/Frameworks/Python.framework/Versions/3.5/lib/python3.5/site-packages/ipykernel/__main__.py:11: RuntimeWarning: overflow encountered in double_scalars\n",
      "/Library/Frameworks/Python.framework/Versions/3.5/lib/python3.5/site-packages/ipykernel/__main__.py:11: RuntimeWarning: invalid value encountered in double_scalars\n",
      "/Library/Frameworks/Python.framework/Versions/3.5/lib/python3.5/site-packages/ipykernel/__main__.py:12: RuntimeWarning: overflow encountered in double_scalars\n",
      "/Library/Frameworks/Python.framework/Versions/3.5/lib/python3.5/site-packages/ipykernel/__main__.py:12: RuntimeWarning: invalid value encountered in double_scalars\n",
      "/Library/Frameworks/Python.framework/Versions/3.5/lib/python3.5/site-packages/ipykernel/__main__.py:13: RuntimeWarning: overflow encountered in double_scalars\n",
      "/Library/Frameworks/Python.framework/Versions/3.5/lib/python3.5/site-packages/ipykernel/__main__.py:13: RuntimeWarning: invalid value encountered in double_scalars\n",
      "/Library/Frameworks/Python.framework/Versions/3.5/lib/python3.5/site-packages/ipykernel/__main__.py:14: RuntimeWarning: overflow encountered in double_scalars\n",
      "/Library/Frameworks/Python.framework/Versions/3.5/lib/python3.5/site-packages/ipykernel/__main__.py:14: RuntimeWarning: invalid value encountered in double_scalars\n",
      "/Library/Frameworks/Python.framework/Versions/3.5/lib/python3.5/site-packages/numdifftools/extrapolation.py:443: RuntimeWarning: invalid value encountered in less_equal\n",
      "  converged = err <= tol\n",
      "/Library/Frameworks/Python.framework/Versions/3.5/lib/python3.5/site-packages/numdifftools/limits.py:150: RuntimeWarning: invalid value encountered in less\n",
      "  outliers = (((abs(der) < (a_median / trim_fact)) +\n",
      "/Library/Frameworks/Python.framework/Versions/3.5/lib/python3.5/site-packages/numdifftools/limits.py:151: RuntimeWarning: invalid value encountered in greater\n",
      "  (abs(der) > (a_median * trim_fact))) * (a_median > 1e-8) +\n",
      "/Library/Frameworks/Python.framework/Versions/3.5/lib/python3.5/site-packages/numdifftools/limits.py:152: RuntimeWarning: invalid value encountered in less\n",
      "  ((der < p25-1.5*iqr) + (p75+1.5*iqr < der)))\n"
     ]
    },
    {
     "name": "stdout",
     "output_type": "stream",
     "text": [
      "[0.011865112260713833, 0.01669512906487651, -0.0021906711455176526, -0.0075324764910447862]\n",
      "6.17480238623e-08\n"
     ]
    },
    {
     "name": "stderr",
     "output_type": "stream",
     "text": [
      "/Library/Frameworks/Python.framework/Versions/3.5/lib/python3.5/site-packages/ipykernel/__main__.py:11: RuntimeWarning: overflow encountered in double_scalars\n",
      "/Library/Frameworks/Python.framework/Versions/3.5/lib/python3.5/site-packages/ipykernel/__main__.py:11: RuntimeWarning: invalid value encountered in double_scalars\n",
      "/Library/Frameworks/Python.framework/Versions/3.5/lib/python3.5/site-packages/ipykernel/__main__.py:12: RuntimeWarning: overflow encountered in double_scalars\n",
      "/Library/Frameworks/Python.framework/Versions/3.5/lib/python3.5/site-packages/ipykernel/__main__.py:12: RuntimeWarning: invalid value encountered in double_scalars\n",
      "/Library/Frameworks/Python.framework/Versions/3.5/lib/python3.5/site-packages/ipykernel/__main__.py:13: RuntimeWarning: overflow encountered in double_scalars\n",
      "/Library/Frameworks/Python.framework/Versions/3.5/lib/python3.5/site-packages/ipykernel/__main__.py:13: RuntimeWarning: invalid value encountered in double_scalars\n",
      "/Library/Frameworks/Python.framework/Versions/3.5/lib/python3.5/site-packages/ipykernel/__main__.py:14: RuntimeWarning: overflow encountered in double_scalars\n",
      "/Library/Frameworks/Python.framework/Versions/3.5/lib/python3.5/site-packages/ipykernel/__main__.py:14: RuntimeWarning: invalid value encountered in double_scalars\n",
      "/Library/Frameworks/Python.framework/Versions/3.5/lib/python3.5/site-packages/numdifftools/extrapolation.py:443: RuntimeWarning: invalid value encountered in less_equal\n",
      "  converged = err <= tol\n",
      "/Library/Frameworks/Python.framework/Versions/3.5/lib/python3.5/site-packages/numdifftools/limits.py:150: RuntimeWarning: invalid value encountered in less\n",
      "  outliers = (((abs(der) < (a_median / trim_fact)) +\n",
      "/Library/Frameworks/Python.framework/Versions/3.5/lib/python3.5/site-packages/numdifftools/limits.py:151: RuntimeWarning: invalid value encountered in greater\n",
      "  (abs(der) > (a_median * trim_fact))) * (a_median > 1e-8) +\n",
      "/Library/Frameworks/Python.framework/Versions/3.5/lib/python3.5/site-packages/numdifftools/limits.py:152: RuntimeWarning: invalid value encountered in less\n",
      "  ((der < p25-1.5*iqr) + (p75+1.5*iqr < der)))\n"
     ]
    },
    {
     "name": "stdout",
     "output_type": "stream",
     "text": [
      "[0.0078869430770058778, 0.01114029739608724, -0.0014681300356108829, -0.0050130582951831617]\n",
      "1.21795753279e-08\n"
     ]
    },
    {
     "name": "stderr",
     "output_type": "stream",
     "text": [
      "/Library/Frameworks/Python.framework/Versions/3.5/lib/python3.5/site-packages/ipykernel/__main__.py:11: RuntimeWarning: overflow encountered in double_scalars\n",
      "/Library/Frameworks/Python.framework/Versions/3.5/lib/python3.5/site-packages/ipykernel/__main__.py:11: RuntimeWarning: invalid value encountered in double_scalars\n",
      "/Library/Frameworks/Python.framework/Versions/3.5/lib/python3.5/site-packages/ipykernel/__main__.py:12: RuntimeWarning: overflow encountered in double_scalars\n",
      "/Library/Frameworks/Python.framework/Versions/3.5/lib/python3.5/site-packages/ipykernel/__main__.py:12: RuntimeWarning: invalid value encountered in double_scalars\n",
      "/Library/Frameworks/Python.framework/Versions/3.5/lib/python3.5/site-packages/ipykernel/__main__.py:13: RuntimeWarning: overflow encountered in double_scalars\n",
      "/Library/Frameworks/Python.framework/Versions/3.5/lib/python3.5/site-packages/ipykernel/__main__.py:13: RuntimeWarning: invalid value encountered in double_scalars\n",
      "/Library/Frameworks/Python.framework/Versions/3.5/lib/python3.5/site-packages/ipykernel/__main__.py:14: RuntimeWarning: overflow encountered in double_scalars\n",
      "/Library/Frameworks/Python.framework/Versions/3.5/lib/python3.5/site-packages/ipykernel/__main__.py:14: RuntimeWarning: invalid value encountered in double_scalars\n",
      "/Library/Frameworks/Python.framework/Versions/3.5/lib/python3.5/site-packages/numdifftools/extrapolation.py:443: RuntimeWarning: invalid value encountered in less_equal\n",
      "  converged = err <= tol\n",
      "/Library/Frameworks/Python.framework/Versions/3.5/lib/python3.5/site-packages/numdifftools/limits.py:150: RuntimeWarning: invalid value encountered in less\n",
      "  outliers = (((abs(der) < (a_median / trim_fact)) +\n",
      "/Library/Frameworks/Python.framework/Versions/3.5/lib/python3.5/site-packages/numdifftools/limits.py:151: RuntimeWarning: invalid value encountered in greater\n",
      "  (abs(der) > (a_median * trim_fact))) * (a_median > 1e-8) +\n",
      "/Library/Frameworks/Python.framework/Versions/3.5/lib/python3.5/site-packages/numdifftools/limits.py:152: RuntimeWarning: invalid value encountered in less\n",
      "  ((der < p25-1.5*iqr) + (p75+1.5*iqr < der)))\n"
     ]
    },
    {
     "name": "stdout",
     "output_type": "stream",
     "text": [
      "[0.0052476975005274276, 0.0074313805509592951, -0.00098216880196238979, -0.003338215601891438]\n",
      "2.4035246588e-09\n",
      "[0.0052476975005274276, 0.0074313805509592951, -0.00098216880196238979, -0.003338215601891438]\n"
     ]
    }
   ],
   "source": [
    "x_0 = list(default_start)\n",
    "\n",
    "x = x_0\n",
    "\n",
    "hessian = nd.core.Hessian(g_nd)\n",
    "jacobian = nd.core.Jacobian(g_nd)\n",
    "\n",
    "for i in range(10):    \n",
    "    adjust = np.matmul(np.linalg.inv(hessian(x)), np.transpose( jacobian(x)))\n",
    "    adjust = np.transpose(adjust)[0]\n",
    "    #print(x)\n",
    "    #print(adjust)\n",
    "    x = list_subtract(x, adjust)\n",
    "    print(x)\n",
    "    print(g_nd(x))\n",
    "    \n",
    "print(x)\n",
    "\n",
    "\n",
    "    "
   ]
  },
  {
   "cell_type": "code",
   "execution_count": 16,
   "metadata": {
    "collapsed": false
   },
   "outputs": [
    {
     "name": "stdout",
     "output_type": "stream",
     "text": [
      "(0.372854105052, 0.393518965248, -0.0359026080443, -0.216701666067)\n"
     ]
    }
   ],
   "source": [
    "print(default_start)"
   ]
  },
  {
   "cell_type": "code",
   "execution_count": 17,
   "metadata": {
    "collapsed": false
   },
   "outputs": [
    {
     "name": "stdout",
     "output_type": "stream",
     "text": [
      "0.086 0.141 0.773\n"
     ]
    }
   ],
   "source": [
    "print(default_lambda_1, default_lambda_2, default_lambda_3)"
   ]
  },
  {
   "cell_type": "code",
   "execution_count": 18,
   "metadata": {
    "collapsed": true
   },
   "outputs": [],
   "source": [
    "def newton_search(x_0, T = 1):\n",
    "\n",
    "    x = x_0\n",
    "\n",
    "    hessian = nd.core.Hessian(g_nd)\n",
    "    jacobian = nd.core.Jacobian(g_nd)\n",
    "\n",
    "    for i in range(100):    \n",
    "        adjust = np.matmul(np.linalg.inv(hessian(x)), np.transpose( jacobian(x)))\n",
    "        adjust = np.transpose(adjust)[0]\n",
    "        #print(x)\n",
    "        #print(adjust)\n",
    "        x = list_subtract(x, adjust)\n",
    "        print(x)\n",
    "        print(g_nd(x))\n",
    "\n",
    "    print(x)"
   ]
  },
  {
   "cell_type": "code",
   "execution_count": 19,
   "metadata": {
    "collapsed": true
   },
   "outputs": [],
   "source": [
    "x_0 = list([3, 2, 3, 2])"
   ]
  },
  {
   "cell_type": "code",
   "execution_count": 20,
   "metadata": {
    "collapsed": false
   },
   "outputs": [],
   "source": [
    "#newton_search(x_0)"
   ]
  },
  {
   "cell_type": "code",
   "execution_count": 21,
   "metadata": {
    "collapsed": false
   },
   "outputs": [],
   "source": [
    "start_plot_1 = (0, 5, -40, -40)\n",
    "start_plot_1 = default_start\n",
    "stepCnt = 100000\n",
    "\n",
    "# Need one more for the initial values\n",
    "ws = np.empty((stepCnt + 1,))\n",
    "xs = np.empty((stepCnt + 1,))\n",
    "ys = np.empty((stepCnt + 1,))\n",
    "zs = np.empty((stepCnt + 1,))\n",
    "\n",
    "# Setting initial values\n",
    "ws[0], xs[0], ys[0], zs[0] = start_plot_1\n",
    "\n",
    "# Stepping through \"time\".\n",
    "for i in range(stepCnt):\n",
    "    # Derivatives of the W, X, Y, Z state\n",
    "    w_dot, x_dot, y_dot, z_dot = quad2(ws[i], xs[i], ys[i], zs[i])\n",
    "    ws[i + 1] = ws[i] + (w_dot * dt)\n",
    "    xs[i + 1] = xs[i] + (x_dot * dt)\n",
    "    ys[i + 1] = ys[i] + (y_dot * dt)\n",
    "    zs[i + 1] = zs[i] + (z_dot * dt)\n",
    "    # print(w_dot, x_dot, y_dot, z_dot)\n",
    "    # print(ws[i], xs[i], ys[i], zs[i])\n",
    "\n",
    "#plot_quad(ws, xs, ys, zs, 0)\n",
    "#plot_quad(ws, ys, xs, zs, 0)\n",
    "\n",
    "#plot_quad(*start_plot_1)"
   ]
  },
  {
   "cell_type": "code",
   "execution_count": 22,
   "metadata": {
    "collapsed": false
   },
   "outputs": [],
   "source": [
    "def experiment_1(start_pt = default_start, \n",
    "                 T = 1, \n",
    "                 lmbda = [default_lambda_1, default_lambda_2, default_lambda_3], \n",
    "                 res = 0.001,\n",
    "                 expmt = \"search\"):\n",
    "    \n",
    "    ## define evaluation function\n",
    "    def dots(x_0, lmbda):\n",
    "        \"\"\"\n",
    "        dz1/dt = lambda_2 * z1^2 - (lambda_2 + lambda_3) * z1 * z2\n",
    "        dz2/dt = lambda_1 * z2^2 - (lambda_1 + lambda_3) * z1 * z2\n",
    "        http://www.math.kit.edu/iag3/~herrlich/seite/wws-11/media/wws-talk-valdez.pdf\n",
    "        \"\"\"\n",
    "        x_1 = x_0[0]\n",
    "        y_1 = x_0[1]\n",
    "        x_2 = x_0[2]\n",
    "        y_2 = x_0[3]\n",
    "\n",
    "        # print(lmbda)\n",
    "        lambda_1 = lmbda[0]\n",
    "        lambda_2 = lmbda[1]\n",
    "        lambda_3 = lmbda[2]\n",
    "\n",
    "        x_1_dot = lambda_2 * (x_1**2 - y_1**2) - (lambda_2 + lambda_3) * (x_1*x_2 - y_1*y_2)\n",
    "        y_1_dot = 2 * lambda_2 * x_1 * y_1 - (lambda_2 + lambda_3) * (x_1*y_2 + y_1*x_2)\n",
    "        x_2_dot = lambda_1 * (x_2**2 - y_2**2) - (lambda_1 + lambda_3) * (x_1*x_2 - y_1*y_2)\n",
    "        y_2_dot = 2 * lambda_1 * x_2 * y_2 - (lambda_1 +lambda_3) * (x_1*y_2 + y_1*x_2)\n",
    "\n",
    "        return [x_1_dot, y_1_dot, x_2_dot, y_2_dot]\n",
    "        #return [-x_1_dot, -y_1_dot, -x_2_dot, -y_2_dot]\n",
    "\n",
    "\n",
    "    def f(x_0, lmbda, T = 1):\n",
    "        \"\"\"Find f(x_0 + T)\"\"\"\n",
    "\n",
    "        ### TODO: refactor, make into array, then transpose\n",
    "        stepCnt = math.ceil(T / dt)\n",
    "\n",
    "        # Need one more for the initial values\n",
    "        ws = np.empty((stepCnt + 1, ))\n",
    "        xs = np.empty((stepCnt + 1, ))\n",
    "        ys = np.empty((stepCnt + 1, ))\n",
    "        zs = np.empty((stepCnt + 1, ))\n",
    "\n",
    "        # Setting initial values\n",
    "        x_1 = x_0[0]\n",
    "        y_1 = x_0[1]\n",
    "        x_2 = x_0[2]\n",
    "        y_2 = x_0[3]\n",
    "        ws[0], xs[0], ys[0], zs[0] = x_1, y_1, x_2, y_2\n",
    "\n",
    "        # Stepping through \"time\".\n",
    "        for i in range(stepCnt):\n",
    "            derivs = dots([ ws[i], xs[i], ys[i], zs[i] ], lmbda )\n",
    "\n",
    "            ws[i + 1] = ws[i] + (derivs[0] * dt)\n",
    "            xs[i + 1] = xs[i] + (derivs[1] * dt)\n",
    "            ys[i + 1] = ys[i] + (derivs[2] * dt)\n",
    "            zs[i + 1] = zs[i] + (derivs[3] * dt)\n",
    "\n",
    "        return [ ws[-1], xs[-1], ys[-1], zs[-1] ]\n",
    "\n",
    "    def g(x_0, lmbda, T = 1):\n",
    "        \"\"\"objective function\"\"\"\n",
    "        return quad_sq_distance( f(x_0, lmbda, T), f(x_0, lmbda, 0) )\n",
    "\n",
    "    def g_T(x_0):\n",
    "        \"\"\"g instantiated with a fixed period\"\"\"\n",
    "        return g(x_0, lmbda, T)\n",
    "\n",
    "    def newton_search(x_0, T = 1, N = 25):\n",
    "\n",
    "        x = x_0\n",
    "\n",
    "        hessian = nd.core.Hessian(g_T)\n",
    "        jacobian = nd.core.Jacobian(g_T)\n",
    "\n",
    "        for i in range(N):    \n",
    "            adjust = np.matmul(np.linalg.inv(hessian(x)), np.transpose( jacobian(x)))\n",
    "            adjust = np.transpose(adjust)[0]\n",
    "            #print(x)\n",
    "            #print(adjust)\n",
    "            x = list_subtract(x, adjust)\n",
    "\n",
    "\n",
    "        print(g_T(x))\n",
    "        print(x)\n",
    "\n",
    "    def plot_sim_path(x_0, T):\n",
    "        stepCnt = math.ceil(T / dt)\n",
    "\n",
    "        # Need one more for the initial values\n",
    "        ws = np.empty((stepCnt + 1,))\n",
    "        xs = np.empty((stepCnt + 1,))\n",
    "        ys = np.empty((stepCnt + 1,))\n",
    "        zs = np.empty((stepCnt + 1,))\n",
    "\n",
    "        # Setting initial values\n",
    "        x_1 = x_0[0]\n",
    "        y_1 = x_0[1]\n",
    "        x_2 = x_0[2]\n",
    "        y_2 = x_0[3]\n",
    "        ws[0], xs[0], ys[0], zs[0] = x_1, y_1, x_2, y_2\n",
    "\n",
    "        # Stepping through \"time\".\n",
    "        for i in range(stepCnt):\n",
    "            # Derivatives of the W, X, Y, Z state\n",
    "            derivs = dots([ ws[i], xs[i], ys[i], zs[i] ], lmbda )\n",
    "\n",
    "            ws[i + 1] = ws[i] + (derivs[0] * dt)\n",
    "            xs[i + 1] = xs[i] + (derivs[1] * dt)\n",
    "            ys[i + 1] = ys[i] + (derivs[2] * dt)\n",
    "            zs[i + 1] = zs[i] + (derivs[3] * dt)\n",
    "\n",
    "        plot_quad(ws, xs, ys, zs, 0)\n",
    "    \n",
    "    if expmt == 'search':\n",
    "        newton_search(start_pt)\n",
    "    if expmt == 'plot':\n",
    "        plot_sim_path(x_0, T)\n",
    "    \n",
    "# experiment_1((10.2, \n",
    "#               9.3, \n",
    "#               14.4, \n",
    "#               12.2) , expmt = 'plot')"
   ]
  },
  {
   "cell_type": "code",
   "execution_count": 23,
   "metadata": {
    "collapsed": false
   },
   "outputs": [],
   "source": [
    "# experiment_1((4.2, 3.3, 4.4, 2.2),\n",
    "#              T = 10000, \n",
    "#              lmbda = [0.086, 0.141, 0.773],\n",
    "#              expmt = 'plot')"
   ]
  },
  {
   "cell_type": "code",
   "execution_count": 24,
   "metadata": {
    "collapsed": false
   },
   "outputs": [],
   "source": [
    "# experiment_1(default_start,\n",
    "#              T = 1000000, \n",
    "#              lmbda = [0.086, 0.141, 0.773],\n",
    "#              expmt = 'plot')"
   ]
  },
  {
   "cell_type": "code",
   "execution_count": 25,
   "metadata": {
    "collapsed": false
   },
   "outputs": [],
   "source": [
    "# experiment_1((4.2, 3.3, 4.4, 2.2),\n",
    "#              T = 1000, \n",
    "#              lmbda = [0.086, 0.141, 0.773],\n",
    "#              expmt = 'search')\n",
    "\n",
    "# experiment_1(default_start,\n",
    "#              T = 1000, \n",
    "#              lmbda = [0.086, 0.141, 0.773],\n",
    "#              expmt = 'search')"
   ]
  },
  {
   "cell_type": "markdown",
   "metadata": {},
   "source": [
    "#### Call on 3/31/2017\n",
    "- Time reversal might not work: not all directions are good or bad. If you have some in either direction it's not clear what to do.\n",
    "- Paper by Cvitanovic, reference 8, from Royal society paper: http://rsta.royalsocietypublishing.org/content/369/1944/2345\n",
    "- Very similar to what we've tried: https://journals.aps.org/pre/abstract/10.1103/PhysRevE.69.016217\n",
    "\n",
    "\n",
    "So far: Minimize |F(T) - F(0)|^2, T = 1, s.t. F(o) = f_0\n",
    "- Now I'm waiting on another paper he's looking for, to minimize instead:\n",
    "\n",
    "Question: how do I look for start points?\n"
   ]
  },
  {
   "cell_type": "markdown",
   "metadata": {
    "collapsed": true
   },
   "source": [
    "#### Call of 4/8\n",
    "\n",
    "- Try minimizing instead:\n",
    "\n",
    "phi(t) = int_0^T |f(t + T) - (t)|^2 dt\n",
    "\n",
    "So that if therewere a periodic orbit , phi(t) = 0"
   ]
  },
  {
   "cell_type": "code",
   "execution_count": 26,
   "metadata": {
    "collapsed": false
   },
   "outputs": [],
   "source": [
    "import scipy.integrate as integrate\n",
    "import scipy.special as special\n",
    "from scipy.integrate import quad\n",
    "\n",
    "def test_integrand(t, a = 0, b = 0):\n",
    "    return t**2 + a - b\n",
    "\n",
    "\n",
    "result = quad(test_integrand, 2, 4, args=(0.13, 1.03))\n",
    "#result_simps = integrate.simps(integrand, 2, 4, args=(0.13, 1.03))"
   ]
  },
  {
   "cell_type": "code",
   "execution_count": 27,
   "metadata": {
    "collapsed": false
   },
   "outputs": [
    {
     "name": "stdout",
     "output_type": "stream",
     "text": [
      "Result: 16.866666666666667,\n",
      "Error Bound: 1.8725761682010974e-13\n"
     ]
    }
   ],
   "source": [
    "print(\"Result: \" + str(result[0]) + \",\\nError Bound: \" + str(result[1]))\n"
   ]
  },
  {
   "cell_type": "code",
   "execution_count": 28,
   "metadata": {
    "collapsed": false
   },
   "outputs": [],
   "source": [
    "from scipy.optimize import newton\n",
    "\n",
    "def experiment_2(start_pt = default_start, \n",
    "                 T = 1, \n",
    "                 lmbda = [default_lambda_1, default_lambda_2, default_lambda_3], \n",
    "                 res = 0.001,\n",
    "                 expmt = \"search\"):\n",
    "    \n",
    "    ## define evaluation function\n",
    "    def dots(x_0, lmbda):\n",
    "        \"\"\"\n",
    "        dz1/dt = lambda_2 * z1^2 - (lambda_2 + lambda_3) * z1 * z2\n",
    "        dz2/dt = lambda_1 * z2^2 - (lambda_1 + lambda_3) * z1 * z2\n",
    "        http://www.math.kit.edu/iag3/~herrlich/seite/wws-11/media/wws-talk-valdez.pdf\n",
    "        \"\"\"\n",
    "        x_1 = x_0[0]\n",
    "        y_1 = x_0[1]\n",
    "        x_2 = x_0[2]\n",
    "        y_2 = x_0[3]\n",
    "\n",
    "        # print(lmbda)\n",
    "        lambda_1 = lmbda[0]\n",
    "        lambda_2 = lmbda[1]\n",
    "        lambda_3 = lmbda[2]\n",
    "\n",
    "        x_1_dot = lambda_2 * (x_1**2 - y_1**2) - (lambda_2 + lambda_3) * (x_1*x_2 - y_1*y_2)\n",
    "        y_1_dot = 2 * lambda_2 * x_1 * y_1 - (lambda_2 + lambda_3) * (x_1*y_2 + y_1*x_2)\n",
    "        x_2_dot = lambda_1 * (x_2**2 - y_2**2) - (lambda_1 + lambda_3) * (x_1*x_2 - y_1*y_2)\n",
    "        y_2_dot = 2 * lambda_1 * x_2 * y_2 - (lambda_1 +lambda_3) * (x_1*y_2 + y_1*x_2)\n",
    "\n",
    "        return [x_1_dot, y_1_dot, x_2_dot, y_2_dot]\n",
    "    \n",
    "        #return [-x_1_dot, -y_1_dot, -x_2_dot, -y_2_dot]\n",
    "\n",
    "\n",
    "    def f(x_0, lmbda, T = 1):\n",
    "        \"\"\"Find f(x_0 + T)\"\"\"\n",
    "\n",
    "        ### TODO: refactor, make into array, then transpose\n",
    "        stepCnt = math.ceil(T / dt)\n",
    "\n",
    "        # Need one more for the initial values\n",
    "        ws = np.empty((stepCnt + 1, ))\n",
    "        xs = np.empty((stepCnt + 1, ))\n",
    "        ys = np.empty((stepCnt + 1, ))\n",
    "        zs = np.empty((stepCnt + 1, ))\n",
    "\n",
    "        # Setting initial values\n",
    "        x_1 = x_0[0]\n",
    "        y_1 = x_0[1]\n",
    "        x_2 = x_0[2]\n",
    "        y_2 = x_0[3]\n",
    "        ws[0], xs[0], ys[0], zs[0] = x_1, y_1, x_2, y_2\n",
    "\n",
    "        # Stepping through \"time\".\n",
    "        for i in range(stepCnt):\n",
    "            derivs = dots([ ws[i], xs[i], ys[i], zs[i] ], lmbda )\n",
    "\n",
    "            ws[i + 1] = ws[i] + (derivs[0] * dt)\n",
    "            xs[i + 1] = xs[i] + (derivs[1] * dt)\n",
    "            ys[i + 1] = ys[i] + (derivs[2] * dt)\n",
    "            zs[i + 1] = zs[i] + (derivs[3] * dt)\n",
    "\n",
    "        return [ ws[-1], xs[-1], ys[-1], zs[-1] ]\n",
    "\n",
    "    def f_integrand(t, x_0, lmbda, T = 1):\n",
    "        return quad_sq_distance(f(x_0, lmbda, t + T), f(x_0, lmbda, t))\n",
    "    \n",
    "    def phi(t, x_0, lmbda):\n",
    "        \"\"\"What we want to minimize\"\"\"\n",
    "        return quad(f_integrand, 0, T, args=(x_0, lmbda))[0]\n",
    "    \n",
    "    def phi_instance(t):\n",
    "        return phi(t, start_pt, lmbda)\n",
    "    \n",
    "    def newton_search(t, T = 1, N = 25):\n",
    "        newton(phi_instance, t)\n",
    "\n",
    "    def plot_sim_path(x_0, T):\n",
    "        stepCnt = math.ceil(T / dt)\n",
    "\n",
    "        # Need one more for the initial values\n",
    "        ws = np.empty((stepCnt + 1,))\n",
    "        xs = np.empty((stepCnt + 1,))\n",
    "        ys = np.empty((stepCnt + 1,))\n",
    "        zs = np.empty((stepCnt + 1,))\n",
    "\n",
    "        # Setting initial values\n",
    "        x_1 = x_0[0]\n",
    "        y_1 = x_0[1]\n",
    "        x_2 = x_0[2]\n",
    "        y_2 = x_0[3]\n",
    "        ws[0], xs[0], ys[0], zs[0] = x_1, y_1, x_2, y_2\n",
    "\n",
    "        # Stepping through \"time\".\n",
    "        for i in range(stepCnt):\n",
    "            # Derivatives of the W, X, Y, Z state\n",
    "            derivs = dots([ ws[i], xs[i], ys[i], zs[i] ], lmbda )\n",
    "\n",
    "            ws[i + 1] = ws[i] + (derivs[0] * dt)\n",
    "            xs[i + 1] = xs[i] + (derivs[1] * dt)\n",
    "            ys[i + 1] = ys[i] + (derivs[2] * dt)\n",
    "            zs[i + 1] = zs[i] + (derivs[3] * dt)\n",
    "\n",
    "        plot_quad(ws, xs, ys, zs, 0)\n",
    "    \n",
    "    if expmt == 'search':\n",
    "        newton_search(t = 100)\n",
    "    if expmt == 'plot':\n",
    "        plot_sim_path(x_0, T)\n",
    "\n"
   ]
  },
  {
   "cell_type": "code",
   "execution_count": 29,
   "metadata": {
    "collapsed": false
   },
   "outputs": [],
   "source": [
    "# experiment_2((4.2, 3.3, 4.4, 2.2),\n",
    "#              T = 1, \n",
    "#              lmbda = [0.086, 0.141, 0.773],\n",
    "#              expmt = 'search')\n",
    "\n",
    "# experiment_2(default_start,\n",
    "#              T = 1, \n",
    "#              lmbda = [0.086, 0.141, 0.773],\n",
    "#              expmt = 'search')"
   ]
  },
  {
   "cell_type": "markdown",
   "metadata": {},
   "source": [
    "It appears that the computation takes too long or is too expensive to be interesting."
   ]
  },
  {
   "cell_type": "code",
   "execution_count": 30,
   "metadata": {
    "collapsed": false
   },
   "outputs": [],
   "source": [
    "# experiment_2((-4.2, 3.3, -4.4, 2.2),\n",
    "#              T = 100, \n",
    "#              lmbda = [0.086, 0.141, 0.773],\n",
    "#              expmt = 'search')"
   ]
  },
  {
   "cell_type": "markdown",
   "metadata": {},
   "source": [
    "Same here: It appears that the computation takes too long or is too expensive to be interesting."
   ]
  },
  {
   "cell_type": "markdown",
   "metadata": {},
   "source": [
    "Can we consider other optimization algorithms, such as:\n",
    "    \n",
    "- Nelder-Mead: Like gradient descent\n",
    "- Powell's Conjugate Direction Method\n",
    "- Conjugate Gradient: For system of linear equations\n",
    "- Broyden–Fletcher–Goldfarb–Shanno: Quasi-Newton method\n",
    "- Newton-Conjugate Gradient\n",
    "- Limited Memory BFGS\n",
    "- Truncade Newton\n",
    "- COBYLA: For constrained problem. Licensed, in Fortran.\n",
    "- Sequential Least Squares Programming: quasi-Newton method\n",
    "- Trust Region, dogleg: https://optimization.mccormick.northwestern.edu/index.php/Trust-region_methods \n",
    "- Newton conjugate gradient trust-region algorithm: \n",
    "\n"
   ]
  },
  {
   "cell_type": "markdown",
   "metadata": {},
   "source": [
    "#### Questions for 4/12/2017:\n",
    "\n",
    "- How do choose starting points?\n",
    "- What can I do with random restarts?\n",
    "- What can we do with trust regions? Can we explore that?"
   ]
  },
  {
   "cell_type": "markdown",
   "metadata": {
    "collapsed": true
   },
   "source": [
    "### Next Steps from 4/12/2017\n",
    "- Poincare sections: plot it in 3-D. Try a few.\n",
    "    - Simulate a path\n",
    "    - Write method that sees which side of the section you're on\n",
    "    - Record point if it swaps sections\n",
    "   "
   ]
  },
  {
   "cell_type": "code",
   "execution_count": 31,
   "metadata": {
    "collapsed": false
   },
   "outputs": [],
   "source": [
    "class HyperPlane:\n",
    "    def __init__(self, a, b, c, d, e):\n",
    "        self.a = a\n",
    "        self.b = b\n",
    "        self.c = c\n",
    "        self.d = d\n",
    "        self.e = e\n",
    "        \n",
    "    def __call__(self, xywz):\n",
    "        \"\"\"Determines which side of the hyperplane that xywz is on\"\"\"\n",
    "        return self.a * xywz[0] + self.b * xywz[1] + self.c * xywz[2] + self.d * xywz[3] - self.e\n",
    "    \n",
    "    def whichSide(self, pt):\n",
    "        val = self.__call__(pt)\n",
    "        if val > 0: return 1\n",
    "        elif val < 0: return -1\n",
    "        else: return 0\n",
    "        \n",
    "    def __str__(self):\n",
    "        return \"Hyperplane: \" + str(self.a) + \"*x_1 + \" + \\\n",
    "                        str(self.b) + \"*y_1 + \" + \\\n",
    "                        str(self.c) + \"*x_2 + \" + \\\n",
    "                        str(self.d) + \"*y_2\" + \\\n",
    "                        \" = \" + str(self.e)\n",
    "        "
   ]
  },
  {
   "cell_type": "code",
   "execution_count": 32,
   "metadata": {
    "collapsed": false
   },
   "outputs": [
    {
     "name": "stdout",
     "output_type": "stream",
     "text": [
      "28\n",
      "-86\n",
      "1\n",
      "0\n",
      "-1\n",
      "Hyperplane: 3*x_1 + 2*y_1 + 1*x_2 + 3*y_2 = -4\n"
     ]
    }
   ],
   "source": [
    "## Testing the HyperPlane class\n",
    "testplane = HyperPlane(3,2,1,3,-4)\n",
    "print(testplane([2,2,2,4,1]))\n",
    "print(testplane([-10,-10,-10,-10,-10]))\n",
    "print(testplane.whichSide([2,2,2.4,4,1]))\n",
    "print(testplane.whichSide([0, 0.0, -4.0, 0, 0]))\n",
    "print(testplane.whichSide([-10.3,-10,-10,-10,-10]))\n",
    "print(testplane)"
   ]
  },
  {
   "cell_type": "code",
   "execution_count": 40,
   "metadata": {
    "collapsed": false
   },
   "outputs": [],
   "source": [
    "class IntersectChecker:\n",
    "    def __init__(self, hyperplane = HyperPlane(1, 1, 1, 1, 4) ):\n",
    "        self.hyperplane = hyperplane\n",
    "        self.flip = 0\n",
    "    \n",
    "    def __call__(self, xywz):\n",
    "        \"\"\"\n",
    "        Checks if we crossed the hyperplane given by abcde. \n",
    "        Returns 0 if no crossing. \n",
    "        Return -1 if crossed from positive to negative.\n",
    "        Return 1 if crossed from negative to positive\n",
    "        \"\"\"\n",
    "        val = self.hyperplane.whichSide(xywz)\n",
    "        \n",
    "        if self.flip == 0:\n",
    "            ## oj first pass\n",
    "            self.flip = val\n",
    "            return 0\n",
    "            \n",
    "        elif val != self.flip:\n",
    "            ## changed\n",
    "            self.flip = val\n",
    "            return val\n",
    "        \n",
    "        else:\n",
    "            ## unchanged\n",
    "            return 0"
   ]
  },
  {
   "cell_type": "code",
   "execution_count": 44,
   "metadata": {
    "collapsed": false
   },
   "outputs": [],
   "source": [
    "def poincarePlot(ws, xs, ys, zs, crossings, txt = \" \"):\n",
    "    ## Plot setup\n",
    "    fig = plt.figure()\n",
    "    ax = fig.gca(projection='3d')\n",
    "\n",
    "    plt.subplots_adjust(top=0.85)\n",
    "    plt.suptitle(txt, fontsize=14)\n",
    "    \n",
    "    ## slice\n",
    "    crossings_array = np.array(crossings)\n",
    "    indices = list(np.where(crossings_array < 0)[0])\n",
    "    ws = list(np.array(ws)[indices])\n",
    "    xs = list(np.array(xs)[indices])\n",
    "    ys = list(np.array(ys)[indices])\n",
    "    \n",
    "    ## execute\n",
    "    ax.plot(ws, xs, ys)\n",
    "    ax.set_xlabel(\"X Axis\")\n",
    "    ax.set_ylabel(\"Y Axis\")\n",
    "    ax.set_zlabel(\"Z Axis\")\n",
    "    ax.set_title(txt)\n",
    "\n",
    "    plt.show()"
   ]
  },
  {
   "cell_type": "code",
   "execution_count": 48,
   "metadata": {
    "collapsed": true
   },
   "outputs": [],
   "source": [
    "def poincareExtract(ws, xs, ys, zs, crossings):\n",
    "\n",
    "    ## slice\n",
    "    crossings_array = np.array(crossings)\n",
    "    indices = list(np.where(crossings_array < 0)[0])\n",
    "    print(\"crossings: \" + str(len(indices)))\n",
    "    ws = list(np.array(ws)[indices])\n",
    "    xs = list(np.array(xs)[indices])\n",
    "    ys = list(np.array(ys)[indices])\n",
    "    zs = list(np.array(zs)[indices])\n",
    "    \n",
    "    return ws, xs, ys, zs"
   ]
  },
  {
   "cell_type": "code",
   "execution_count": 62,
   "metadata": {
    "collapsed": false
   },
   "outputs": [],
   "source": [
    "\n",
    "def experiment_3(start_pt = default_start, \n",
    "                 T = 1, \n",
    "                 lmbda = [default_lambda_1, default_lambda_2, default_lambda_3], \n",
    "                 res = 0.001,\n",
    "                 hyperplane = HyperPlane(0.2, 0.4, 1.2, -2.1, -1.1),\n",
    "                 expmt = \"search\"):\n",
    "    \n",
    "    ## define evaluation function\n",
    "    def dots(x_0, lmbda):\n",
    "        \"\"\"\n",
    "        dz1/dt = lambda_2 * z1^2 - (lambda_2 + lambda_3) * z1 * z2\n",
    "        dz2/dt = lambda_1 * z2^2 - (lambda_1 + lambda_3) * z1 * z2\n",
    "        http://www.math.kit.edu/iag3/~herrlich/seite/wws-11/media/wws-talk-valdez.pdf\n",
    "        \"\"\"\n",
    "        x_1 = x_0[0]\n",
    "        y_1 = x_0[1]\n",
    "        x_2 = x_0[2]\n",
    "        y_2 = x_0[3]\n",
    "\n",
    "        # print(lmbda)\n",
    "        lambda_1 = lmbda[0]\n",
    "        lambda_2 = lmbda[1]\n",
    "        lambda_3 = lmbda[2]\n",
    "\n",
    "        x_1_dot = lambda_2 * (x_1**2 - y_1**2) - (lambda_2 + lambda_3) * (x_1*x_2 - y_1*y_2)\n",
    "        y_1_dot = 2 * lambda_2 * x_1 * y_1 - (lambda_2 + lambda_3) * (x_1*y_2 + y_1*x_2)\n",
    "        x_2_dot = lambda_1 * (x_2**2 - y_2**2) - (lambda_1 + lambda_3) * (x_1*x_2 - y_1*y_2)\n",
    "        y_2_dot = 2 * lambda_1 * x_2 * y_2 - (lambda_1 +lambda_3) * (x_1*y_2 + y_1*x_2)\n",
    "\n",
    "        return [x_1_dot, y_1_dot, x_2_dot, y_2_dot]\n",
    "    \n",
    "        ## if reversing time\n",
    "        #return [-x_1_dot, -y_1_dot, -x_2_dot, -y_2_dot]\n",
    "\n",
    "\n",
    "    def f(x_0, lmbda, T = 1):\n",
    "        \"\"\"Find f(x_0 + T)\"\"\"\n",
    "\n",
    "        ### TODO: refactor, make into array, then transpose\n",
    "        stepCnt = math.ceil(T / dt)\n",
    "\n",
    "        # Need one more for the initial values\n",
    "        ws = np.empty((stepCnt + 1, ))\n",
    "        xs = np.empty((stepCnt + 1, ))\n",
    "        ys = np.empty((stepCnt + 1, ))\n",
    "        zs = np.empty((stepCnt + 1, ))\n",
    "\n",
    "        # Setting initial values\n",
    "        x_1 = x_0[0]\n",
    "        y_1 = x_0[1]\n",
    "        x_2 = x_0[2]\n",
    "        y_2 = x_0[3]\n",
    "        ws[0], xs[0], ys[0], zs[0] = x_1, y_1, x_2, y_2\n",
    "\n",
    "        # Stepping through \"time\".\n",
    "        for i in range(stepCnt):\n",
    "            derivs = dots([ ws[i], xs[i], ys[i], zs[i] ], lmbda )\n",
    "\n",
    "            ws[i + 1] = ws[i] + (derivs[0] * dt)\n",
    "            xs[i + 1] = xs[i] + (derivs[1] * dt)\n",
    "            ys[i + 1] = ys[i] + (derivs[2] * dt)\n",
    "            zs[i + 1] = zs[i] + (derivs[3] * dt)\n",
    "\n",
    "        return [ ws[-1], xs[-1], ys[-1], zs[-1] ]\n",
    "\n",
    "    def f_integrand(t, x_0, lmbda, T = 1):\n",
    "        return quad_sq_distance(f(x_0, lmbda, t + T), f(x_0, lmbda, t))\n",
    "    \n",
    "    def phi(t, x_0, lmbda):\n",
    "        \"\"\"What we want to minimize\"\"\"\n",
    "        return quad(f_integrand, 0, T, args=(x_0, lmbda))[0]\n",
    "    \n",
    "    def phi_instance(t):\n",
    "        return phi(t, start_pt, lmbda)\n",
    "    \n",
    "    def newton_search(t, T = 1, N = 25):\n",
    "        newton(phi_instance, t)\n",
    "\n",
    "    def plot_sim_path(x_0, T):\n",
    "        \"\"\"Simulate path, collecting Poincare crossings\"\"\"\n",
    "        stepCnt = math.ceil(T / dt)\n",
    "\n",
    "        # Need one more for the initial values\n",
    "        ws = np.empty((stepCnt + 1,))\n",
    "        xs = np.empty((stepCnt + 1,))\n",
    "        ys = np.empty((stepCnt + 1,))\n",
    "        zs = np.empty((stepCnt + 1,))\n",
    "        crossings = np.empty((stepCnt + 1,))\n",
    "\n",
    "        # Setting initial values\n",
    "        x_1 = x_0[0]\n",
    "        y_1 = x_0[1]\n",
    "        x_2 = x_0[2]\n",
    "        y_2 = x_0[3]\n",
    "        ws[0], xs[0], ys[0], zs[0] = x_1, y_1, x_2, y_2\n",
    "        crossings[0] = 0\n",
    "        \n",
    "        intersect_checker = IntersectChecker(hyperplane)\n",
    "        \n",
    "        ## for trackcing min/max/mean of path, relative to hyperplane\n",
    "        pts = np.empty((stepCnt,))\n",
    "        \n",
    "        # Stepping through \"time\".\n",
    "        for i in range(stepCnt):\n",
    "            # Derivatives of the W, X, Y, Z state\n",
    "            derivs = dots([ ws[i], xs[i], ys[i], zs[i] ], lmbda )\n",
    "\n",
    "            ws[i + 1] = ws[i] + (derivs[0] * dt)\n",
    "            xs[i + 1] = xs[i] + (derivs[1] * dt)\n",
    "            ys[i + 1] = ys[i] + (derivs[2] * dt)\n",
    "            zs[i + 1] = zs[i] + (derivs[3] * dt)\n",
    "            pt = (ws[i + 1], xs[i + 1], ys[i + 1], zs[i + 1])\n",
    "            \n",
    "            pts[i] = hyperplane(pt)\n",
    "            # print(hyperplane(pt))\n",
    "            crossings[i + 1] = intersect_checker((ws[i + 1], xs[i + 1], ys[i + 1], zs[i + 1]))\n",
    "\n",
    "        print(max(pts))\n",
    "        print(min(pts))\n",
    "        print(sum(pts) / len(pts))\n",
    "        poincareExtract(ws, xs, ys, zs, crossings)\n",
    "        poincarePlot(ws, xs, ys, zs, crossings, str(hyperplane))\n",
    "    \n",
    "    if expmt == 'print':\n",
    "        print(\"not yet implemented\")\n",
    "    if expmt == 'plot':\n",
    "        plot_sim_path(x_0, T)\n",
    "\n",
    "    "
   ]
  },
  {
   "cell_type": "code",
   "execution_count": null,
   "metadata": {
    "collapsed": false
   },
   "outputs": [
    {
     "name": "stdout",
     "output_type": "stream",
     "text": [
      "Plotting Double Plot Quad Viz\n"
     ]
    }
   ],
   "source": [
    "# experiment_3((4.2, 3.3, 4.4, 2.2),\n",
    "#              T = 1000, \n",
    "#              lmbda = [0.086, 0.141, 0.773],\n",
    "#              expmt = 'search')\n",
    "\n",
    "experiment_1( (0.032, 0.308, -0.1, -0.5) ,\n",
    "             T = 10000, \n",
    "             lmbda = [0.086, 0.141, 0.773],\n",
    "             expmt = 'plot')\n",
    "\n",
    "# experiment_3(default_start,\n",
    "#              T = 10000, \n",
    "#              lmbda = [0.086, 0.141, 0.773],\n",
    "#              hyperplane = HyperPlane(4, -3, -1, -4, 0),\n",
    "#              expmt = 'plot')"
   ]
  },
  {
   "cell_type": "markdown",
   "metadata": {},
   "source": [
    "Playing around with various parameters has not been fruitful. We may need to increase the search volume."
   ]
  },
  {
   "cell_type": "markdown",
   "metadata": {
    "collapsed": true
   },
   "source": [
    "- do Poincare map\n",
    "- try P(P(x))\n",
    "- try simpler, known parameters, (lambda < 0.5)"
   ]
  },
  {
   "cell_type": "markdown",
   "metadata": {},
   "source": [
    "## 4/19/2017\n",
    "\n",
    "- todo: try P(P(X)) (or even more nesting)\n",
    "- Take existing 4x4 system, easy to study, use as benchmark for code\n",
    "- Look at other (PhD) thesis on similar stuff, cite as state of the art"
   ]
  },
  {
   "cell_type": "markdown",
   "metadata": {},
   "source": [
    "x1' = -x1 + x1*x2 + x1*x3\n",
    "\n",
    "x2' = 3*x2*x4 - 2*x1*x2\n",
    "\n",
    "x3' = x3*x4 - x3*x1 + x2*x1\n",
    "\n",
    "x4' = -x3*x4 - 3*x2*x4 + x1\n",
    "\n",
    "It should have a periodic orbit. The change in the code should be minimal but this can test the Poincare code."
   ]
  },
  {
   "cell_type": "code",
   "execution_count": null,
   "metadata": {
    "collapsed": true
   },
   "outputs": [],
   "source": []
  }
 ],
 "metadata": {
  "kernelspec": {
   "display_name": "Python 3",
   "language": "python",
   "name": "python3"
  },
  "language_info": {
   "codemirror_mode": {
    "name": "ipython",
    "version": 3
   },
   "file_extension": ".py",
   "mimetype": "text/x-python",
   "name": "python",
   "nbconvert_exporter": "python",
   "pygments_lexer": "ipython3",
   "version": "3.5.1"
  }
 },
 "nbformat": 4,
 "nbformat_minor": 0
}
